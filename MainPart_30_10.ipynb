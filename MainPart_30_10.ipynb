{
 "cells": [
  {
   "cell_type": "code",
   "execution_count": 1,
   "id": "566e248e-1252-40af-9928-c3c5abf379ff",
   "metadata": {},
   "outputs": [
    {
     "name": "stdout",
     "output_type": "stream",
     "text": [
      "\n",
      "=== Travel ===\n",
      "- It's Only the Himalayas\n",
      "- Full Moon over Noah’s Ark: An Odyssey to Mount Ararat and Beyond\n",
      "- See America: A Celebration of Our National Parks & Treasured Sites\n",
      "- Vagabonding: An Uncommon Guide to the Art of Long-Term World Travel\n",
      "\n",
      "=== Mystery ===\n",
      "- Sharp Objects\n",
      "- In a Dark, Dark Wood\n",
      "- The Past Never Ends\n",
      "- A Murder in Time\n",
      "\n",
      "=== Historical Fiction ===\n",
      "- Tipping the Velvet\n",
      "- Forever and Forever: The Courtship of Henry Longfellow and Fanny Appleton\n",
      "- A Flight of Arrows (The Pathfinders #2)\n",
      "- The House by the Lake\n",
      "\n",
      "=== Sequential Art ===\n",
      "- Scott Pilgrim's Precious Little Life (Scott Pilgrim #1)\n",
      "- Tsubasa: WoRLD CHRoNiCLE 2 (Tsubasa WoRLD CHRoNiCLE #2)\n",
      "- This One Summer\n",
      "- The Nameless City (The Nameless City #1)\n",
      "\n",
      "=== Classics ===\n",
      "- The Secret Garden\n",
      "- The Metamorphosis\n",
      "- The Pilgrim's Progress\n",
      "- The Hound of the Baskervilles (Sherlock Holmes #5)\n"
     ]
    }
   ],
   "source": [
    "from selenium import webdriver\n",
    "from selenium.webdriver.common.by import By\n",
    "from selenium.webdriver.chrome.service import Service\n",
    "from selenium.webdriver.chrome.options import Options\n",
    "from webdriver_manager.chrome import ChromeDriverManager\n",
    "\n",
    "options = Options()\n",
    "options.add_argument(\"--headless=new\")\n",
    "options.add_argument(\"--no-sandbox\")\n",
    "options.add_argument(\"--disable-dev-shm-usage\")\n",
    "\n",
    "service = Service(ChromeDriverManager().install())\n",
    "driver = webdriver.Chrome(service=service, options=options)\n",
    "\n",
    "driver.get(\"https://books.toscrape.com/\")\n",
    "\n",
    "for i in range(5):\n",
    "    categories = driver.find_elements(By.CSS_SELECTOR, \".nav-list ul li a\")\n",
    "    cat = categories[i]\n",
    "    cat_name = cat.text.strip()\n",
    "    cat_link = cat.get_attribute(\"href\")\n",
    "    print(f\"\\n=== {cat_name} ===\")\n",
    "\n",
    "    driver.get(cat_link)\n",
    "\n",
    "    books = driver.find_elements(By.CSS_SELECTOR, \"article.product_pod h3 a\")[:4]\n",
    "    for b in books:\n",
    "        print(\"-\", b.get_attribute(\"title\"))\n",
    "\n",
    "    driver.back()\n",
    "\n",
    "driver.quit()"
   ]
  },
  {
   "cell_type": "code",
   "execution_count": null,
   "id": "f9ab7c3b-bff1-4491-bcff-0930182aede3",
   "metadata": {},
   "outputs": [],
   "source": []
  }
 ],
 "metadata": {
  "kernelspec": {
   "display_name": "Python 3 (ipykernel)",
   "language": "python",
   "name": "python3"
  },
  "language_info": {
   "codemirror_mode": {
    "name": "ipython",
    "version": 3
   },
   "file_extension": ".py",
   "mimetype": "text/x-python",
   "name": "python",
   "nbconvert_exporter": "python",
   "pygments_lexer": "ipython3",
   "version": "3.13.3"
  }
 },
 "nbformat": 4,
 "nbformat_minor": 5
}
